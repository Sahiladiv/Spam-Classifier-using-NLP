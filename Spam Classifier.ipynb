{
 "cells": [
  {
   "cell_type": "code",
   "execution_count": 52,
   "id": "4773d857",
   "metadata": {},
   "outputs": [],
   "source": [
    "import nltk\n",
    "import re\n",
    "import numpy as np\n",
    "import pandas as pd\n",
    "from nltk.stem import WordNetLemmatizer\n",
    "from nltk.corpus import stopwords\n"
   ]
  },
  {
   "cell_type": "code",
   "execution_count": 53,
   "id": "fbe27d20",
   "metadata": {},
   "outputs": [],
   "source": [
    "messages = pd.read_csv('smsspamcollection/SMSSpamCollection', sep='\\t', names=['labels','message'])"
   ]
  },
  {
   "cell_type": "markdown",
   "id": "b8cdb82f",
   "metadata": {},
   "source": [
    "# Data cleaning and pre-processing:"
   ]
  },
  {
   "cell_type": "code",
   "execution_count": 9,
   "id": "2f0b7a4d",
   "metadata": {},
   "outputs": [],
   "source": [
    "lemmatizer = WordNetLemmatizer()\n",
    "corpus = []\n",
    "\n",
    "for i in range(len(messages)):\n",
    "    review = re.sub('[^a-zA-Z]', ' ', messages['message'][i])\n",
    "    review = review.lower()\n",
    "    review = review.split()\n",
    "    review = [lemmatizer.lemmatize(word) for word in review if word not in set(stopwords.words('english'))]\n",
    "    review = ' '.join(review)\n",
    "    corpus.append(review)\n"
   ]
  },
  {
   "cell_type": "markdown",
   "id": "a7441ddc",
   "metadata": {},
   "source": [
    "# Creating the TF-IDF model:"
   ]
  },
  {
   "cell_type": "code",
   "execution_count": 29,
   "id": "151f16f5",
   "metadata": {},
   "outputs": [],
   "source": [
    "from sklearn.feature_extraction.text import TfidfVectorizer\n",
    "tf = TfidfVectorizer(max_features=1250)\n",
    "X = tf.fit_transform(corpus).toarray()"
   ]
  },
  {
   "cell_type": "markdown",
   "id": "bc9e768b",
   "metadata": {},
   "source": [
    "# Get Dummy Variables:"
   ]
  },
  {
   "cell_type": "code",
   "execution_count": 58,
   "id": "cf7fa227",
   "metadata": {},
   "outputs": [],
   "source": [
    "Y = pd.get_dummies(messages['labels'])"
   ]
  },
  {
   "cell_type": "code",
   "execution_count": 60,
   "id": "7f129a04",
   "metadata": {},
   "outputs": [],
   "source": [
    "#To keep only 1 column:\n",
    "Y = Y.iloc[:,1].values"
   ]
  },
  {
   "cell_type": "markdown",
   "id": "74f04950",
   "metadata": {},
   "source": [
    "# Train-Test Split:"
   ]
  },
  {
   "cell_type": "code",
   "execution_count": 64,
   "id": "4b34d854",
   "metadata": {},
   "outputs": [],
   "source": [
    "from sklearn.model_selection import train_test_split\n",
    "X_train, X_test, Y_train, Y_test = train_test_split(X, Y, test_size = 0.20, random_state = 0)"
   ]
  },
  {
   "cell_type": "markdown",
   "id": "1c5f1724",
   "metadata": {},
   "source": [
    "# Training model using Naive bayes classifier"
   ]
  },
  {
   "cell_type": "code",
   "execution_count": 67,
   "id": "7f6d31f1",
   "metadata": {},
   "outputs": [],
   "source": [
    "from sklearn.naive_bayes import MultinomialNB\n",
    "spam_detect_model = MultinomialNB().fit(X_train, Y_train)\n",
    "\n",
    "Y_pred=spam_detect_model.predict(X_test)"
   ]
  },
  {
   "cell_type": "markdown",
   "id": "695f5d8e",
   "metadata": {},
   "source": [
    "# Confusion Matrix:"
   ]
  },
  {
   "cell_type": "code",
   "execution_count": 71,
   "id": "fee1a09e",
   "metadata": {},
   "outputs": [
    {
     "data": {
      "text/plain": [
       "array([[953,   2],\n",
       "       [ 21, 139]], dtype=int64)"
      ]
     },
     "execution_count": 71,
     "metadata": {},
     "output_type": "execute_result"
    }
   ],
   "source": [
    "from sklearn.metrics import confusion_matrix\n",
    "confusion_matrix = confusion_matrix(Y_test,Y_pred)\n",
    "confusion_matrix"
   ]
  },
  {
   "cell_type": "markdown",
   "id": "e100f3a5",
   "metadata": {},
   "source": [
    "# Accuracy:"
   ]
  },
  {
   "cell_type": "code",
   "execution_count": 75,
   "id": "ff4da322",
   "metadata": {},
   "outputs": [
    {
     "data": {
      "text/plain": [
       "0.979372197309417"
      ]
     },
     "execution_count": 75,
     "metadata": {},
     "output_type": "execute_result"
    }
   ],
   "source": [
    "from sklearn.metrics import accuracy_score\n",
    "accuracy = accuracy_score(Y_test,Y_pred)\n",
    "accuracy"
   ]
  }
 ],
 "metadata": {
  "kernelspec": {
   "display_name": "Python 3",
   "language": "python",
   "name": "python3"
  },
  "language_info": {
   "codemirror_mode": {
    "name": "ipython",
    "version": 3
   },
   "file_extension": ".py",
   "mimetype": "text/x-python",
   "name": "python",
   "nbconvert_exporter": "python",
   "pygments_lexer": "ipython3",
   "version": "3.9.0"
  }
 },
 "nbformat": 4,
 "nbformat_minor": 5
}
